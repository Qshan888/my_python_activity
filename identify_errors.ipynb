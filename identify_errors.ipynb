{
 "cells": [
  {
   "cell_type": "code",
   "execution_count": 1,
   "id": "11440df0",
   "metadata": {},
   "outputs": [
    {
     "ename": "NameError",
     "evalue": "name 'total_price' is not defined",
     "output_type": "error",
     "traceback": [
      "\u001b[0;31m---------------------------------------------------------------------------\u001b[0m",
      "\u001b[0;31mNameError\u001b[0m                                 Traceback (most recent call last)",
      "\u001b[0;32m/var/folders/2y/jw_fvb1s0nncctnyn9dc159w0000gn/T/ipykernel_23216/874127678.py\u001b[0m in \u001b[0;36m<module>\u001b[0;34m\u001b[0m\n\u001b[1;32m      2\u001b[0m \u001b[0msales_price\u001b[0m \u001b[0;34m=\u001b[0m \u001b[0;36m24500\u001b[0m\u001b[0;34m\u001b[0m\u001b[0;34m\u001b[0m\u001b[0m\n\u001b[1;32m      3\u001b[0m \u001b[0;34m\u001b[0m\u001b[0m\n\u001b[0;32m----> 4\u001b[0;31m \u001b[0mprint\u001b[0m\u001b[0;34m(\u001b[0m\u001b[0mtotal_price\u001b[0m\u001b[0;34m)\u001b[0m\u001b[0;34m\u001b[0m\u001b[0;34m\u001b[0m\u001b[0m\n\u001b[0m",
      "\u001b[0;31mNameError\u001b[0m: name 'total_price' is not defined"
     ]
    }
   ],
   "source": [
    "# Print the price.\n",
    "sales_price = 24500\n",
    "\n",
    "print(total_price)"
   ]
  },
  {
   "cell_type": "code",
   "execution_count": 2,
   "id": "d74e400b",
   "metadata": {},
   "outputs": [
    {
     "name": "stdout",
     "output_type": "stream",
     "text": [
      "24500\n"
     ]
    }
   ],
   "source": [
    "# Print the price.\n",
    "sales_price = 24500\n",
    "\n",
    "#variable typed wrong\n",
    "print(sales_price)"
   ]
  },
  {
   "cell_type": "code",
   "execution_count": 3,
   "id": "4c5b6e07",
   "metadata": {},
   "outputs": [
    {
     "ename": "SyntaxError",
     "evalue": "Missing parentheses in call to 'print'. Did you mean print(\"My name is James Bond\")? (2513551451.py, line 2)",
     "output_type": "error",
     "traceback": [
      "\u001b[0;36m  File \u001b[0;32m\"/var/folders/2y/jw_fvb1s0nncctnyn9dc159w0000gn/T/ipykernel_23216/2513551451.py\"\u001b[0;36m, line \u001b[0;32m2\u001b[0m\n\u001b[0;31m    print \"My name is James Bond\"\u001b[0m\n\u001b[0m          ^\u001b[0m\n\u001b[0;31mSyntaxError\u001b[0m\u001b[0;31m:\u001b[0m Missing parentheses in call to 'print'. Did you mean print(\"My name is James Bond\")?\n"
     ]
    }
   ],
   "source": [
    "# Print a text string verbatim.\n",
    "print \"My name is James Bond\""
   ]
  },
  {
   "cell_type": "code",
   "execution_count": 4,
   "id": "74b8ff65",
   "metadata": {},
   "outputs": [
    {
     "name": "stdout",
     "output_type": "stream",
     "text": [
      "My name is James Bond\n"
     ]
    }
   ],
   "source": [
    "# Print a text string verbatim.\n",
    "print(\"My name is James Bond\")"
   ]
  },
  {
   "cell_type": "code",
   "execution_count": 5,
   "id": "7b0cfe5c",
   "metadata": {},
   "outputs": [
    {
     "ename": "IndentationError",
     "evalue": "expected an indented block (1860144848.py, line 5)",
     "output_type": "error",
     "traceback": [
      "\u001b[0;36m  File \u001b[0;32m\"/var/folders/2y/jw_fvb1s0nncctnyn9dc159w0000gn/T/ipykernel_23216/1860144848.py\"\u001b[0;36m, line \u001b[0;32m5\u001b[0m\n\u001b[0;31m    print('X is greater than 10')\u001b[0m\n\u001b[0m    ^\u001b[0m\n\u001b[0;31mIndentationError\u001b[0m\u001b[0;31m:\u001b[0m expected an indented block\n"
     ]
    }
   ],
   "source": [
    "# Determine whether x is greater than 10.\n",
    "x = 11 \n",
    "\n",
    "if x > 10:\n",
    "print('X is greater than 10')\n",
    "else: \n",
    "    print('x is not greater than 10')"
   ]
  },
  {
   "cell_type": "code",
   "execution_count": 21,
   "id": "1c5a600d",
   "metadata": {},
   "outputs": [
    {
     "name": "stdout",
     "output_type": "stream",
     "text": [
      "X is greater than 10\n"
     ]
    }
   ],
   "source": [
    "# Determine whether x is greater than 10.\n",
    "# Code 3\n",
    "# Determine if x is greater than 10\n",
    "x = 11 \n",
    "\n",
    "if x > 10:\n",
    "    print(\"X is greater than 10\")\n",
    "else: \n",
    "    print(\"X is not greater than 10\")"
   ]
  },
  {
   "cell_type": "code",
   "execution_count": 22,
   "id": "4a9971a4",
   "metadata": {},
   "outputs": [
    {
     "ename": "IndexError",
     "evalue": "list index out of range",
     "output_type": "error",
     "traceback": [
      "\u001b[0;31m---------------------------------------------------------------------------\u001b[0m",
      "\u001b[0;31mIndexError\u001b[0m                                Traceback (most recent call last)",
      "\u001b[0;32m/var/folders/2y/jw_fvb1s0nncctnyn9dc159w0000gn/T/ipykernel_23216/3212207673.py\u001b[0m in \u001b[0;36m<module>\u001b[0;34m\u001b[0m\n\u001b[1;32m      2\u001b[0m \u001b[0mlist_a\u001b[0m \u001b[0;34m=\u001b[0m \u001b[0;34m[\u001b[0m\u001b[0;36m1\u001b[0m\u001b[0;34m,\u001b[0m\u001b[0;36m2\u001b[0m\u001b[0;34m,\u001b[0m\u001b[0;36m3\u001b[0m\u001b[0;34m,\u001b[0m\u001b[0;36m4\u001b[0m\u001b[0;34m,\u001b[0m\u001b[0;34m'Ayaan'\u001b[0m\u001b[0;34m,\u001b[0m \u001b[0;34m'Hirsi'\u001b[0m\u001b[0;34m]\u001b[0m\u001b[0;34m\u001b[0m\u001b[0;34m\u001b[0m\u001b[0m\n\u001b[1;32m      3\u001b[0m \u001b[0;34m\u001b[0m\u001b[0m\n\u001b[0;32m----> 4\u001b[0;31m \u001b[0mlist_a\u001b[0m\u001b[0;34m[\u001b[0m\u001b[0;36m11\u001b[0m\u001b[0;34m]\u001b[0m\u001b[0;34m\u001b[0m\u001b[0;34m\u001b[0m\u001b[0m\n\u001b[0m",
      "\u001b[0;31mIndexError\u001b[0m: list index out of range"
     ]
    }
   ],
   "source": [
    "# Create the variable list_a.\n",
    "list_a = [1,2,3,4,'Ayaan', 'Hirsi']\n",
    "\n",
    "list_a[11]"
   ]
  },
  {
   "cell_type": "code",
   "execution_count": 23,
   "id": "bd132e56",
   "metadata": {},
   "outputs": [
    {
     "name": "stdout",
     "output_type": "stream",
     "text": [
      "[1, 2, 3, 4, 'Ayaan', 'Hirsi']\n"
     ]
    }
   ],
   "source": [
    "# Create the variable list_a.\n",
    "list_a = [1,2,3,4,'Ayaan', 'Hirsi']\n",
    "\n",
    "\n",
    "list_a\n",
    "print(list_a)"
   ]
  },
  {
   "cell_type": "code",
   "execution_count": null,
   "id": "4d69d94b",
   "metadata": {},
   "outputs": [],
   "source": []
  }
 ],
 "metadata": {
  "kernelspec": {
   "display_name": "Python 3 (ipykernel)",
   "language": "python",
   "name": "python3"
  },
  "language_info": {
   "codemirror_mode": {
    "name": "ipython",
    "version": 3
   },
   "file_extension": ".py",
   "mimetype": "text/x-python",
   "name": "python",
   "nbconvert_exporter": "python",
   "pygments_lexer": "ipython3",
   "version": "3.9.13"
  }
 },
 "nbformat": 4,
 "nbformat_minor": 5
}
