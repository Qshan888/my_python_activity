{
 "cells": [
  {
   "cell_type": "code",
   "execution_count": 2,
   "id": "ca448466",
   "metadata": {},
   "outputs": [
    {
     "data": {
      "text/plain": [
       "[1, 1, 2, 4, 6, 7, 8, 9, 24, 43, 45, 93, 123, 645]"
      ]
     },
     "execution_count": 2,
     "metadata": {},
     "output_type": "execute_result"
    }
   ],
   "source": [
    "# Creating a bubble sort for an unsorted array\n",
    "def bubble_sort(list):\n",
    "    unsorted_until_index = len(list) -1\n",
    "    sorted = False\n",
    "    \n",
    "    while not sorted:\n",
    "        sorted = True\n",
    "        for i in range(unsorted_until_index):\n",
    "            if list[i] > list[i+1]:\n",
    "                list[i], list[i+1] = list[i+1], list[i]\n",
    "                sorted = False\n",
    "        unsorted_until_index -= 1\n",
    "    return list\n",
    "\n",
    "# Use bubble sort\n",
    "\n",
    "bubble_sort([4,2,7,1,3])\n",
    "bubble_sort([93,43,24,645,123,45,6,7,8,9,4,2,1,1])"
   ]
  },
  {
   "cell_type": "code",
   "execution_count": null,
   "id": "4886270f",
   "metadata": {},
   "outputs": [],
   "source": []
  }
 ],
 "metadata": {
  "kernelspec": {
   "display_name": "Python 3 (ipykernel)",
   "language": "python",
   "name": "python3"
  },
  "language_info": {
   "codemirror_mode": {
    "name": "ipython",
    "version": 3
   },
   "file_extension": ".py",
   "mimetype": "text/x-python",
   "name": "python",
   "nbconvert_exporter": "python",
   "pygments_lexer": "ipython3",
   "version": "3.9.13"
  }
 },
 "nbformat": 4,
 "nbformat_minor": 5
}
