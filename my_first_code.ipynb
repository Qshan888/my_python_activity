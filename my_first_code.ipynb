{
 "cells": [
  {
   "cell_type": "code",
   "execution_count": 1,
   "id": "52fcc9a4",
   "metadata": {},
   "outputs": [
    {
     "name": "stdout",
     "output_type": "stream",
     "text": [
      "My name is Cody\n",
      "The date is 22.01.2023\n"
     ]
    }
   ],
   "source": [
    "print(\"My name is Cody\")\n",
    "print(\"The date is 22.01.2023\")\n"
   ]
  },
  {
   "cell_type": "code",
   "execution_count": 14,
   "id": "600eae78",
   "metadata": {},
   "outputs": [
    {
     "name": "stdout",
     "output_type": "stream",
     "text": [
      "Total sales in december were: 182900\n",
      "Total sales in december were: 36580.0\n",
      "Property price of perperty D: 30600\n"
     ]
    }
   ],
   "source": [
    "# Write a program to analyse real estate data\n",
    "\n",
    "# Assign value to property ID\n",
    "a = 45000\n",
    "b = 23400\n",
    "c = 67000\n",
    "d = 34600\n",
    "e = 12900\n",
    "\n",
    "# add the sales together\n",
    "total_sales_dec = a+b+c+d+e\n",
    "\n",
    "print(\"Total sales in december were:\",a+b+c+d+e)\n",
    "print(\"Total sales in december were:\",total_sales_dec/5)\n",
    "print(\"Property price of perperty D:\",d-4000)"
   ]
  },
  {
   "cell_type": "code",
   "execution_count": null,
   "id": "3b71fe27",
   "metadata": {},
   "outputs": [],
   "source": []
  }
 ],
 "metadata": {
  "kernelspec": {
   "display_name": "Python 3 (ipykernel)",
   "language": "python",
   "name": "python3"
  },
  "language_info": {
   "codemirror_mode": {
    "name": "ipython",
    "version": 3
   },
   "file_extension": ".py",
   "mimetype": "text/x-python",
   "name": "python",
   "nbconvert_exporter": "python",
   "pygments_lexer": "ipython3",
   "version": "3.9.13"
  }
 },
 "nbformat": 4,
 "nbformat_minor": 5
}
